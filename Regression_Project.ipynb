{
 "cells": [
  {
   "cell_type": "markdown",
   "metadata": {},
   "source": [
    "# Your title for your regression project"
   ]
  },
  {
   "cell_type": "markdown",
   "metadata": {},
   "source": [
    "## Project Planning\n",
    "\n",
    "### Goals\n",
    "\n",
    "(see background)...your customer is the zillow data science team.  state your goals as if you were delivering this to zillow.  They have asked for something from you (see 'background') and you are basically communicating in a more concise way, and very clearly, the goals as you understand them and as you have taken and acted upon through your research. \n",
    "\n",
    "*Project Overview\n",
    "Background:\n",
    "Zillow wants to improve their Zestimate. The zestimate is estimated value of a home. Zillow theorizes that there is more information to be gained to improve its existing model. Because of that, Zillow wants you to develop a model to predict the error between the Zestimate and the sales price of a home. In predicting the error, you will discover features that will help them improve the Zestimate estimate itself. Your goal of this project is to develop a linear regression model that will best predict the log error of the Zestimate. The error is the difference of the sales price and the Zestimate. The log error is computed by taking the log function of that error. You don't need to worry about the fact that the error is of a logarithmic function. It is a continuous number that represents an error rate.*\n",
    "\n"
   ]
  },
  {
   "cell_type": "markdown",
   "metadata": {},
   "source": [
    "### Deliverables\n",
    "\n",
    "What should the zillow team expect to receive from you?  Again, as you were communicating to them, not to your instructors.  \n",
    "\n",
    "*your deliverables:*\n",
    "1. *A report (in the form of a presentation, both verbal and through a slides) that summarizes your findings about the drivers of the Zestimate error. This will come from the analysis you do during the exploration phase of the pipeline. In the report, you will have charts that visually tell the story of what is driving the errors.*\n",
    "\n",
    "2. *A Jupyter notebook, titled 'Regression_Proj_YourName', that contains a clearly labeled section and code clearly documented for each the stages below (project planning, data acquisition, data prep, exploration, and modeling). All of the work will take place in your jupyter notebook.*"
   ]
  },
  {
   "cell_type": "markdown",
   "metadata": {},
   "source": [
    "### Data Dictionary & Details\n",
    "\n",
    "**we will be using 2016 data so do NOT use properties_2017 or predictions_2017**  \n",
    "\n",
    "Data dictionary of fields you will use. Why? So that you can refer back and others can refer to the meanings as you are developing your model. This is about gaining knowledge in the domain space so that you will understand when data doesn't look right, be able to more effectively develop hypotheses, and use that domain knowledge to build a more robust model (among other reasons)\n",
    "\n",
    "Define your fields.   You may be able to to some ahead of time, but you may need to return to this section after you have explored the data and understand more about what each field means.  Also, look for a data dictionary either in the database or in the original data source (kaggle.com). \n",
    "\n",
    "You are free to use more fields than is mentioned, but I would recommend not expanding it to too many fields in the beginning as it will add complexity and you want to make sure you get an initial version completed before diving in deeper.  \n",
    "\n",
    "- logerror\n",
    "- bathroomcnt\n",
    "- bedroomcnt\n",
    "- calculatedfinishedsquarefeet\n",
    "- fullbathcnt\n",
    "- garagecarcnt\n",
    "- roomcnt\n",
    "- yearbuilt\n",
    "- taxvaluedollarcnt\n",
    "- taxamount"
   ]
  },
  {
   "cell_type": "markdown",
   "metadata": {},
   "source": [
    "### Initial Thoughts, Ideas, Hypotheses\n",
    "\n",
    "Brainstorming ideas, hypotheses, related to how variables might impact or relate to each other, both within independent variables and between the independent variables and dependent variable, and also related to any ideas for new features you may have while first looking at the existing variables and challenge ahead of you."
   ]
  },
  {
   "cell_type": "markdown",
   "metadata": {},
   "source": [
    "### Prepare your environment\n",
    "\n",
    "import libraries you will use throughout the project.  You may need to add to this as you go.  But try to keep all of your imports in this section"
   ]
  },
  {
   "cell_type": "code",
   "execution_count": 1,
   "metadata": {},
   "outputs": [],
   "source": [
    "# # ignore warnings\n",
    "# import warnings\n",
    "# warnings.filterwarnings('ignore')\n",
    "\n",
    "# acquire/wrangling\n",
    "import numpy as np\n",
    "import pandas as pd\n",
    "\n",
    "# Exploring\n",
    "import scipy.stats as stats\n",
    "\n",
    "# Visualizing\n",
    "%matplotlib inline\n",
    "import matplotlib.pyplot as plt\n",
    "import seaborn as sns\n",
    "plt.style.use('classic')\n",
    "\n",
    "# Modeling\n",
    "import statsmodels.api as sm\n",
    "from scipy.stats import pearsonr\n",
    "from sklearn.model_selection import train_test_split\n",
    "from sklearn.linear_model import LinearRegression\n",
    "from sklearn.metrics import mean_squared_error, r2_score"
   ]
  },
  {
   "cell_type": "markdown",
   "metadata": {},
   "source": [
    "### Data Acquisition\n",
    "\n",
    "#### Acquire via csv\n",
    "\n",
    "- add the path to where your files are located in your env.py file. \n",
    "- ensure that others can read the files based on their local env.py file. \n",
    "\n",
    "- Filter out any from predictions_2016 that do not have a logerror. \n",
    "- Generate a cohesive data set that includes the following fields:\n",
    "\n",
    "- `logerror`\n",
    "- `bathroomcnt`\n",
    "- `bedroomcnt`\n",
    "- `calculatedfinishedsquarefeet`\n",
    "- `fullbathcnt`\n",
    "- `garagecarcnt`\n",
    "- `roomcnt`\n",
    "- `yearbuilt`\n",
    "- `taxvaluedollarcnt`\n",
    "- `taxamount`\n",
    "- (optional) `regionidzip`\n",
    "\n",
    "recommendations for dealing with the large dataset\n",
    "- remove any without a logerror\n",
    "- sample until you have the right query (and then pull entire dataset)\n",
    "- export to local csv \n",
    "- read from local csv (sample, but larger sample than your first) \n",
    "- save sql query to add into to_sql() function in python. \n"
   ]
  },
  {
   "cell_type": "code",
   "execution_count": null,
   "metadata": {},
   "outputs": [],
   "source": [
    "# env.py file located at:\n",
    "# zillow_path\n",
    "\n",
    "# add in the code from earlier lessons on how to link to env file at this point\n",
    "# until then, continue on, dump data in as CSV files and work the project.\n",
    "# Fix env logic last"
   ]
  },
  {
   "cell_type": "code",
   "execution_count": 131,
   "metadata": {},
   "outputs": [
    {
     "name": "stderr",
     "output_type": "stream",
     "text": [
      "/usr/local/anaconda3/lib/python3.7/site-packages/IPython/core/interactiveshell.py:3020: DtypeWarning: Columns (22,32,34,49,55) have mixed types. Specify dtype option on import or set low_memory=False.\n",
      "  interactivity=interactivity, compiler=compiler, result=result)\n"
     ]
    }
   ],
   "source": [
    "# loading properties dataset from csv file:\n",
    "path = '/Users/rachelreuter/Codeup-DS-projects/'\n",
    "df_properties_dump = pd.read_csv(path + 'properties_2016.csv')"
   ]
  },
  {
   "cell_type": "code",
   "execution_count": 132,
   "metadata": {},
   "outputs": [],
   "source": [
    "# loading predictions dataset from csv file:\n",
    "path = '/Users/rachelreuter/Codeup-DS-projects/'\n",
    "df_prediction_dump = pd.read_csv(path + 'train_2016_v2.csv')"
   ]
  },
  {
   "cell_type": "code",
   "execution_count": 105,
   "metadata": {},
   "outputs": [],
   "source": [
    "# creating data from from the propeties.csv load:\n",
    "df_a = pd.DataFrame(df_properties_dump, columns = [\n",
    "      'parcelid',\n",
    "      'bathroomcnt',\n",
    "      'bedroomcnt',\n",
    "      'calculatedfinishedsquarefeet',\n",
    "      'regionidzip',\n",
    "      'roomcnt',\n",
    "      'yearbuilt',\n",
    "      'taxvaluedollarcnt',\n",
    "      'taxamount'])"
   ]
  },
  {
   "cell_type": "code",
   "execution_count": 112,
   "metadata": {},
   "outputs": [],
   "source": [
    "# creating data from from the predictions.csv load:\n",
    "df_b = pd.DataFrame(df_prediction_dump, columns = [\n",
    "      'parcelid',\n",
    "      'logerror'])"
   ]
  },
  {
   "cell_type": "code",
   "execution_count": 187,
   "metadata": {},
   "outputs": [],
   "source": [
    "# joining the two data frames to create the working data frame:\n",
    "df_join = pd.merge(df_a, df_b, on='parcelid')"
   ]
  },
  {
   "cell_type": "markdown",
   "metadata": {},
   "source": [
    "#### Summarize the data. \n",
    "\n",
    "Why? So you can confirm the data look like what you would expect.\n",
    "\n",
    "- peek at a few rows\n",
    "- data types\n",
    "- summary stats\n",
    "- column names\n",
    "- number of rows and columns\n",
    "- ..."
   ]
  },
  {
   "cell_type": "code",
   "execution_count": 114,
   "metadata": {},
   "outputs": [
    {
     "data": {
      "text/html": [
       "<div>\n",
       "<style scoped>\n",
       "    .dataframe tbody tr th:only-of-type {\n",
       "        vertical-align: middle;\n",
       "    }\n",
       "\n",
       "    .dataframe tbody tr th {\n",
       "        vertical-align: top;\n",
       "    }\n",
       "\n",
       "    .dataframe thead th {\n",
       "        text-align: right;\n",
       "    }\n",
       "</style>\n",
       "<table border=\"1\" class=\"dataframe\">\n",
       "  <thead>\n",
       "    <tr style=\"text-align: right;\">\n",
       "      <th></th>\n",
       "      <th>parcelid</th>\n",
       "      <th>bathroomcnt</th>\n",
       "      <th>bedroomcnt</th>\n",
       "      <th>calculatedfinishedsquarefeet</th>\n",
       "      <th>regionidzip</th>\n",
       "      <th>roomcnt</th>\n",
       "      <th>yearbuilt</th>\n",
       "      <th>taxvaluedollarcnt</th>\n",
       "      <th>taxamount</th>\n",
       "      <th>logerror</th>\n",
       "    </tr>\n",
       "  </thead>\n",
       "  <tbody>\n",
       "    <tr>\n",
       "      <th>0</th>\n",
       "      <td>17073783</td>\n",
       "      <td>2.5</td>\n",
       "      <td>3.0</td>\n",
       "      <td>1264.0</td>\n",
       "      <td>97081.0</td>\n",
       "      <td>5.0</td>\n",
       "      <td>1986.0</td>\n",
       "      <td>191811.0</td>\n",
       "      <td>2015.06</td>\n",
       "      <td>0.0953</td>\n",
       "    </tr>\n",
       "    <tr>\n",
       "      <th>1</th>\n",
       "      <td>17088994</td>\n",
       "      <td>1.0</td>\n",
       "      <td>2.0</td>\n",
       "      <td>777.0</td>\n",
       "      <td>97083.0</td>\n",
       "      <td>4.0</td>\n",
       "      <td>1990.0</td>\n",
       "      <td>239679.0</td>\n",
       "      <td>2581.30</td>\n",
       "      <td>0.0198</td>\n",
       "    </tr>\n",
       "    <tr>\n",
       "      <th>2</th>\n",
       "      <td>17100444</td>\n",
       "      <td>2.0</td>\n",
       "      <td>3.0</td>\n",
       "      <td>1101.0</td>\n",
       "      <td>97113.0</td>\n",
       "      <td>5.0</td>\n",
       "      <td>1956.0</td>\n",
       "      <td>47853.0</td>\n",
       "      <td>591.64</td>\n",
       "      <td>0.0060</td>\n",
       "    </tr>\n",
       "    <tr>\n",
       "      <th>3</th>\n",
       "      <td>17102429</td>\n",
       "      <td>1.5</td>\n",
       "      <td>2.0</td>\n",
       "      <td>1554.0</td>\n",
       "      <td>97113.0</td>\n",
       "      <td>5.0</td>\n",
       "      <td>1965.0</td>\n",
       "      <td>62914.0</td>\n",
       "      <td>682.78</td>\n",
       "      <td>-0.0566</td>\n",
       "    </tr>\n",
       "    <tr>\n",
       "      <th>4</th>\n",
       "      <td>17109604</td>\n",
       "      <td>2.5</td>\n",
       "      <td>4.0</td>\n",
       "      <td>2415.0</td>\n",
       "      <td>97084.0</td>\n",
       "      <td>8.0</td>\n",
       "      <td>1984.0</td>\n",
       "      <td>554000.0</td>\n",
       "      <td>5886.92</td>\n",
       "      <td>0.0573</td>\n",
       "    </tr>\n",
       "  </tbody>\n",
       "</table>\n",
       "</div>"
      ],
      "text/plain": [
       "   parcelid  bathroomcnt  bedroomcnt  calculatedfinishedsquarefeet  \\\n",
       "0  17073783          2.5         3.0                        1264.0   \n",
       "1  17088994          1.0         2.0                         777.0   \n",
       "2  17100444          2.0         3.0                        1101.0   \n",
       "3  17102429          1.5         2.0                        1554.0   \n",
       "4  17109604          2.5         4.0                        2415.0   \n",
       "\n",
       "   regionidzip  roomcnt  yearbuilt  taxvaluedollarcnt  taxamount  logerror  \n",
       "0      97081.0      5.0     1986.0           191811.0    2015.06    0.0953  \n",
       "1      97083.0      4.0     1990.0           239679.0    2581.30    0.0198  \n",
       "2      97113.0      5.0     1956.0            47853.0     591.64    0.0060  \n",
       "3      97113.0      5.0     1965.0            62914.0     682.78   -0.0566  \n",
       "4      97084.0      8.0     1984.0           554000.0    5886.92    0.0573  "
      ]
     },
     "execution_count": 114,
     "metadata": {},
     "output_type": "execute_result"
    }
   ],
   "source": [
    "# peek at first few rows:\n",
    "df_join.head()"
   ]
  },
  {
   "cell_type": "markdown",
   "metadata": {},
   "source": [
    "#### Identify the columns that have missing values and the number of missing values in each column. \n",
    "Why? Missing values are going to cause issues down the line so you will need to handle those appropriately. For each variable with missing values, if it makes sense to replace those missing with a 0, do so. For those where that doesn't make sense, decide if you should drop the entire observations (rows) that contain the missing values, or drop the entire variable (column) that contains the missing values."
   ]
  },
  {
   "cell_type": "code",
   "execution_count": 115,
   "metadata": {},
   "outputs": [],
   "source": [
    "# summary information for data frame and associated columns:\n",
    "def summarize_df(df):\n",
    "    print(\"\\nRows & Columns:\\n\")\n",
    "    print(df.shape)\n",
    "    print(\"\\nColumn Info:\\n\")\n",
    "    print(df.info())\n",
    "    print(\"\\nFirst 5 rows:\\n\")\n",
    "    print(df.head())\n",
    "    print(\"\\nLast 5 rows:\\n\")\n",
    "    print(df.tail())\n",
    "    print(\"\\nMissing Values:\\n\")\n",
    "    missing_vals = df.columns[df.isnull().any()]\n",
    "    print(df.isnull().sum())\n",
    "    print(\"\\nSummary Stats:\\n\")\n",
    "    print(df.describe())    "
   ]
  },
  {
   "cell_type": "code",
   "execution_count": 116,
   "metadata": {},
   "outputs": [
    {
     "name": "stdout",
     "output_type": "stream",
     "text": [
      "\n",
      "Rows & Columns:\n",
      "\n",
      "(90275, 10)\n",
      "\n",
      "Column Info:\n",
      "\n",
      "<class 'pandas.core.frame.DataFrame'>\n",
      "Int64Index: 90275 entries, 0 to 90274\n",
      "Data columns (total 10 columns):\n",
      "parcelid                        90275 non-null int64\n",
      "bathroomcnt                     90275 non-null float64\n",
      "bedroomcnt                      90275 non-null float64\n",
      "calculatedfinishedsquarefeet    89614 non-null float64\n",
      "regionidzip                     90240 non-null float64\n",
      "roomcnt                         90275 non-null float64\n",
      "yearbuilt                       89519 non-null float64\n",
      "taxvaluedollarcnt               90274 non-null float64\n",
      "taxamount                       90269 non-null float64\n",
      "logerror                        90275 non-null float64\n",
      "dtypes: float64(9), int64(1)\n",
      "memory usage: 7.6 MB\n",
      "None\n",
      "\n",
      "First 5 rows:\n",
      "\n",
      "   parcelid  bathroomcnt  bedroomcnt  calculatedfinishedsquarefeet  \\\n",
      "0  17073783          2.5         3.0                        1264.0   \n",
      "1  17088994          1.0         2.0                         777.0   \n",
      "2  17100444          2.0         3.0                        1101.0   \n",
      "3  17102429          1.5         2.0                        1554.0   \n",
      "4  17109604          2.5         4.0                        2415.0   \n",
      "\n",
      "   regionidzip  roomcnt  yearbuilt  taxvaluedollarcnt  taxamount  logerror  \n",
      "0      97081.0      5.0     1986.0           191811.0    2015.06    0.0953  \n",
      "1      97083.0      4.0     1990.0           239679.0    2581.30    0.0198  \n",
      "2      97113.0      5.0     1956.0            47853.0     591.64    0.0060  \n",
      "3      97113.0      5.0     1965.0            62914.0     682.78   -0.0566  \n",
      "4      97084.0      8.0     1984.0           554000.0    5886.92    0.0573  \n",
      "\n",
      "Last 5 rows:\n",
      "\n",
      "       parcelid  bathroomcnt  bedroomcnt  calculatedfinishedsquarefeet  \\\n",
      "90270  11876798          3.0         4.0                        2068.0   \n",
      "90271  12808516          2.0         3.0                        1352.0   \n",
      "90272  12010248          2.0         2.0                         860.0   \n",
      "90273  14310905          2.5         3.0                        2268.0   \n",
      "90274  14636609          2.5         3.0                        1812.0   \n",
      "\n",
      "       regionidzip  roomcnt  yearbuilt  taxvaluedollarcnt  taxamount  logerror  \n",
      "90270      96013.0      0.0     2008.0           596082.0    7335.81    0.0276  \n",
      "90271      96490.0      0.0     1956.0           178408.0    2441.74   -0.1188  \n",
      "90272      96009.0      0.0     2011.0           420000.0    5070.41    0.0843  \n",
      "90273      96947.0      0.0     2012.0          1215816.0   12508.30   -0.0050  \n",
      "90274      96186.0      0.0     2013.0           471286.0    5470.12    0.0129  \n",
      "\n",
      "Missing Values:\n",
      "\n",
      "parcelid                          0\n",
      "bathroomcnt                       0\n",
      "bedroomcnt                        0\n",
      "calculatedfinishedsquarefeet    661\n",
      "regionidzip                      35\n",
      "roomcnt                           0\n",
      "yearbuilt                       756\n",
      "taxvaluedollarcnt                 1\n",
      "taxamount                         6\n",
      "logerror                          0\n",
      "dtype: int64\n",
      "\n",
      "Summary Stats:\n",
      "\n",
      "           parcelid   bathroomcnt    bedroomcnt  calculatedfinishedsquarefeet  \\\n",
      "count  9.027500e+04  90275.000000  90275.000000                  89614.000000   \n",
      "mean   1.298466e+07      2.279474      3.031869                   1773.185987   \n",
      "std    2.504510e+06      1.004271      1.156436                    928.162393   \n",
      "min    1.071174e+07      0.000000      0.000000                      2.000000   \n",
      "25%    1.155950e+07      2.000000      2.000000                   1184.000000   \n",
      "50%    1.254734e+07      2.000000      3.000000                   1540.000000   \n",
      "75%    1.422755e+07      3.000000      4.000000                   2095.000000   \n",
      "max    1.629608e+08     20.000000     16.000000                  22741.000000   \n",
      "\n",
      "         regionidzip       roomcnt     yearbuilt  taxvaluedollarcnt  \\\n",
      "count   90240.000000  90275.000000  89519.000000       9.027400e+04   \n",
      "mean    96586.131184      1.478516   1968.532870       4.576726e+05   \n",
      "std      3661.339094      2.819627     23.763475       5.548844e+05   \n",
      "min     95982.000000      0.000000   1885.000000       2.200000e+01   \n",
      "25%     96193.000000      0.000000   1953.000000       1.990232e+05   \n",
      "50%     96393.000000      0.000000   1970.000000       3.428720e+05   \n",
      "75%     96987.000000      0.000000   1987.000000       5.405890e+05   \n",
      "max    399675.000000     18.000000   2015.000000       2.775000e+07   \n",
      "\n",
      "           taxamount      logerror  \n",
      "count   90269.000000  90275.000000  \n",
      "mean     5983.975927      0.011457  \n",
      "std      6838.876956      0.161079  \n",
      "min        49.080000     -4.605000  \n",
      "25%      2872.830000     -0.025300  \n",
      "50%      4542.750000      0.006000  \n",
      "75%      6901.090000      0.039200  \n",
      "max    321936.090000      4.737000  \n"
     ]
    }
   ],
   "source": [
    "summarize_df(df_join)"
   ]
  },
  {
   "cell_type": "markdown",
   "metadata": {},
   "source": [
    "### Data Preparation\n",
    "\n",
    "Goal: leave this section with a dataset that is ready to be analyzed. "
   ]
  },
  {
   "cell_type": "code",
   "execution_count": 125,
   "metadata": {},
   "outputs": [],
   "source": [
    "# applying lambda function to fill any \"na\" fields with the mean for those respective columns:\n",
    "df_join = df_join.apply(lambda x: x.fillna(x.mean()),axis=0)"
   ]
  },
  {
   "cell_type": "code",
   "execution_count": 126,
   "metadata": {},
   "outputs": [],
   "source": [
    "# removing outliers beyond three standard deviations from all columns:\n",
    "df_fixed = df_join[(np.abs(stats.zscore(df_join)) < 3).all(axis=1)]"
   ]
  },
  {
   "cell_type": "markdown",
   "metadata": {},
   "source": [
    "#### Identify the data types of each variable. Why? \n",
    "You need to make sure they are what makes sense for the data and the meaning of the data that lies in that variable. If it does not, make necessary changes."
   ]
  },
  {
   "cell_type": "code",
   "execution_count": 127,
   "metadata": {},
   "outputs": [
    {
     "name": "stdout",
     "output_type": "stream",
     "text": [
      "\n",
      "Rows & Columns:\n",
      "\n",
      "(85623, 10)\n",
      "\n",
      "Column Info:\n",
      "\n",
      "<class 'pandas.core.frame.DataFrame'>\n",
      "Int64Index: 85623 entries, 0 to 90274\n",
      "Data columns (total 10 columns):\n",
      "parcelid                        85623 non-null int64\n",
      "bathroomcnt                     85623 non-null float64\n",
      "bedroomcnt                      85623 non-null float64\n",
      "calculatedfinishedsquarefeet    85623 non-null float64\n",
      "regionidzip                     85623 non-null float64\n",
      "roomcnt                         85623 non-null float64\n",
      "yearbuilt                       85623 non-null float64\n",
      "taxvaluedollarcnt               85623 non-null float64\n",
      "taxamount                       85623 non-null float64\n",
      "logerror                        85623 non-null float64\n",
      "dtypes: float64(9), int64(1)\n",
      "memory usage: 7.2 MB\n",
      "None\n",
      "\n",
      "First 5 rows:\n",
      "\n",
      "   parcelid  bathroomcnt  bedroomcnt  calculatedfinishedsquarefeet  \\\n",
      "0  17073783          2.5         3.0                        1264.0   \n",
      "1  17088994          1.0         2.0                         777.0   \n",
      "2  17100444          2.0         3.0                        1101.0   \n",
      "3  17102429          1.5         2.0                        1554.0   \n",
      "4  17109604          2.5         4.0                        2415.0   \n",
      "\n",
      "   regionidzip  roomcnt  yearbuilt  taxvaluedollarcnt  taxamount  logerror  \n",
      "0      97081.0      5.0     1986.0           191811.0    2015.06    0.0953  \n",
      "1      97083.0      4.0     1990.0           239679.0    2581.30    0.0198  \n",
      "2      97113.0      5.0     1956.0            47853.0     591.64    0.0060  \n",
      "3      97113.0      5.0     1965.0            62914.0     682.78   -0.0566  \n",
      "4      97084.0      8.0     1984.0           554000.0    5886.92    0.0573  \n",
      "\n",
      "Last 5 rows:\n",
      "\n",
      "       parcelid  bathroomcnt  bedroomcnt  calculatedfinishedsquarefeet  \\\n",
      "90270  11876798          3.0         4.0                        2068.0   \n",
      "90271  12808516          2.0         3.0                        1352.0   \n",
      "90272  12010248          2.0         2.0                         860.0   \n",
      "90273  14310905          2.5         3.0                        2268.0   \n",
      "90274  14636609          2.5         3.0                        1812.0   \n",
      "\n",
      "       regionidzip  roomcnt  yearbuilt  taxvaluedollarcnt  taxamount  logerror  \n",
      "90270      96013.0      0.0     2008.0           596082.0    7335.81    0.0276  \n",
      "90271      96490.0      0.0     1956.0           178408.0    2441.74   -0.1188  \n",
      "90272      96009.0      0.0     2011.0           420000.0    5070.41    0.0843  \n",
      "90273      96947.0      0.0     2012.0          1215816.0   12508.30   -0.0050  \n",
      "90274      96186.0      0.0     2013.0           471286.0    5470.12    0.0129  \n",
      "\n",
      "Missing Values:\n",
      "\n",
      "parcelid                        0\n",
      "bathroomcnt                     0\n",
      "bedroomcnt                      0\n",
      "calculatedfinishedsquarefeet    0\n",
      "regionidzip                     0\n",
      "roomcnt                         0\n",
      "yearbuilt                       0\n",
      "taxvaluedollarcnt               0\n",
      "taxamount                       0\n",
      "logerror                        0\n",
      "dtype: int64\n",
      "\n",
      "Summary Stats:\n",
      "\n",
      "           parcelid  bathroomcnt    bedroomcnt  calculatedfinishedsquarefeet  \\\n",
      "count  8.562300e+04  85623.00000  85623.000000                  85623.000000   \n",
      "mean   1.296665e+07      2.19093      2.954043                   1672.327562   \n",
      "std    1.749415e+06      0.83884      1.028012                    700.900525   \n",
      "min    1.071174e+07      0.00000      0.000000                      2.000000   \n",
      "25%    1.154690e+07      2.00000      2.000000                   1174.000000   \n",
      "50%    1.255921e+07      2.00000      3.000000                   1518.000000   \n",
      "75%    1.423020e+07      3.00000      4.000000                   2006.000000   \n",
      "max    1.730084e+07      5.00000      6.000000                   4546.000000   \n",
      "\n",
      "        regionidzip       roomcnt     yearbuilt  taxvaluedollarcnt  \\\n",
      "count  85623.000000  85623.000000  85623.000000       8.562300e+04   \n",
      "mean   96546.972767      1.457015   1968.522022       4.000825e+05   \n",
      "std      410.758647      2.761124     23.272015       3.014144e+05   \n",
      "min    95982.000000      0.000000   1898.000000       2.200000e+01   \n",
      "25%    96203.000000      0.000000   1953.000000       1.951525e+05   \n",
      "50%    96398.000000      0.000000   1969.000000       3.350000e+05   \n",
      "75%    96987.000000      0.000000   1986.000000       5.155330e+05   \n",
      "max    97344.000000      9.000000   2015.000000       2.121904e+06   \n",
      "\n",
      "          taxamount      logerror  \n",
      "count  85623.000000  85623.000000  \n",
      "mean    5259.216759      0.007745  \n",
      "std     3676.452874      0.087152  \n",
      "min       49.080000     -0.471600  \n",
      "25%     2830.485000     -0.025300  \n",
      "50%     4445.160000      0.005000  \n",
      "75%     6606.640000      0.036300  \n",
      "max    26477.690000      0.494100  \n"
     ]
    }
   ],
   "source": [
    "# view summary of this new fixed data frame, now with blanks filled with means and outliers removed:\n",
    "summarize_df(df_fixed)"
   ]
  },
  {
   "cell_type": "markdown",
   "metadata": {},
   "source": [
    "#### View the distribution of the numeric variables\n",
    "- plot a histogram and box plot of each variable. \n",
    "- Why? To see the distribution, skewness, outliers, and unit scales. You will use this information in your decision of whether to normalize, standardize or neither."
   ]
  },
  {
   "cell_type": "code",
   "execution_count": 179,
   "metadata": {},
   "outputs": [
    {
     "data": {
      "image/png": "[encoded data removed]",
      "text/plain": [
       "<Figure size 1440x720 with 7 Axes>"
      ]
     },
     "metadata": {
      "needs_background": "light"
     },
     "output_type": "display_data"
    }
   ],
   "source": [
    "# histograms of all variables in dataframe, minus room count and region id zip:\n",
    "\n",
    "plt.figure(figsize=(20,10))\n",
    "for i, col in enumerate(['bathroomcnt',\n",
    "      'bedroomcnt',\n",
    "      'calculatedfinishedsquarefeet',\n",
    "      'yearbuilt',\n",
    "      'taxvaluedollarcnt',\n",
    "      'taxamount',\n",
    "      'logerror']):\n",
    "    plot_number = i + 1\n",
    "    series = df_fixed[col]\n",
    "    plt.subplot(3, 3, plot_number)\n",
    "    plt.title(col)\n",
    "    series.hist(bins=20, density=False, cumulative=False, log=False)"
   ]
  },
  {
   "cell_type": "code",
   "execution_count": 180,
   "metadata": {},
   "outputs": [
    {
     "data": {
      "image/png": "[encoded data removed]",
      "text/plain": [
       "<Figure size 1440x720 with 7 Axes>"
      ]
     },
     "metadata": {
      "needs_background": "light"
     },
     "output_type": "display_data"
    }
   ],
   "source": [
    "plt.figure(figsize=(20,10))\n",
    "for i, col in enumerate(['bathroomcnt',\n",
    "      'bedroomcnt',\n",
    "      'calculatedfinishedsquarefeet',\n",
    "      'yearbuilt',\n",
    "      'taxvaluedollarcnt',\n",
    "      'taxamount',\n",
    "      'logerror']):\n",
    "    plot_number = i + 1\n",
    "    series = df_fixed[col]\n",
    "    plt.subplot(3, 3, plot_number)\n",
    "    plt.title(col)\n",
    "    series.plot.box()"
   ]
  },
  {
   "cell_type": "markdown",
   "metadata": {},
   "source": [
    "#### Create a variable, `colnames`, that is a list of the column names. \n",
    "Why? You will likely reference this variable later."
   ]
  },
  {
   "cell_type": "code",
   "execution_count": 184,
   "metadata": {},
   "outputs": [
    {
     "data": {
      "text/html": [
       "<div>\n",
       "<style scoped>\n",
       "    .dataframe tbody tr th:only-of-type {\n",
       "        vertical-align: middle;\n",
       "    }\n",
       "\n",
       "    .dataframe tbody tr th {\n",
       "        vertical-align: top;\n",
       "    }\n",
       "\n",
       "    .dataframe thead th {\n",
       "        text-align: right;\n",
       "    }\n",
       "</style>\n",
       "<table border=\"1\" class=\"dataframe\">\n",
       "  <thead>\n",
       "    <tr style=\"text-align: right;\">\n",
       "      <th></th>\n",
       "      <th>variable_name</th>\n",
       "    </tr>\n",
       "  </thead>\n",
       "  <tbody>\n",
       "    <tr>\n",
       "      <th>0</th>\n",
       "      <td>parcelid</td>\n",
       "    </tr>\n",
       "    <tr>\n",
       "      <th>1</th>\n",
       "      <td>bathroomcnt</td>\n",
       "    </tr>\n",
       "    <tr>\n",
       "      <th>2</th>\n",
       "      <td>bedroomcnt</td>\n",
       "    </tr>\n",
       "    <tr>\n",
       "      <th>3</th>\n",
       "      <td>calculatedfinishedsquarefeet</td>\n",
       "    </tr>\n",
       "    <tr>\n",
       "      <th>4</th>\n",
       "      <td>regionidzip</td>\n",
       "    </tr>\n",
       "    <tr>\n",
       "      <th>5</th>\n",
       "      <td>roomcnt</td>\n",
       "    </tr>\n",
       "    <tr>\n",
       "      <th>6</th>\n",
       "      <td>yearbuilt</td>\n",
       "    </tr>\n",
       "    <tr>\n",
       "      <th>7</th>\n",
       "      <td>taxvaluedollarcnt</td>\n",
       "    </tr>\n",
       "    <tr>\n",
       "      <th>8</th>\n",
       "      <td>taxamount</td>\n",
       "    </tr>\n",
       "    <tr>\n",
       "      <th>9</th>\n",
       "      <td>logerror</td>\n",
       "    </tr>\n",
       "  </tbody>\n",
       "</table>\n",
       "</div>"
      ],
      "text/plain": [
       "                  variable_name\n",
       "0                      parcelid\n",
       "1                   bathroomcnt\n",
       "2                    bedroomcnt\n",
       "3  calculatedfinishedsquarefeet\n",
       "4                   regionidzip\n",
       "5                       roomcnt\n",
       "6                     yearbuilt\n",
       "7             taxvaluedollarcnt\n",
       "8                     taxamount\n",
       "9                      logerror"
      ]
     },
     "execution_count": 184,
     "metadata": {},
     "output_type": "execute_result"
    }
   ],
   "source": [
    "columns = pd.DataFrame(df_fixed.columns, columns=['variable_name'])\n",
    "columns"
   ]
  },
  {
   "cell_type": "markdown",
   "metadata": {},
   "source": [
    "#### Create a list of the independent variable names (aka attributes) and assign it to `x_vars` \n",
    "Why? During exploration, you will likely use this list to refer to the attribute names."
   ]
  },
  {
   "cell_type": "code",
   "execution_count": 194,
   "metadata": {},
   "outputs": [
    {
     "data": {
      "text/html": [
       "<div>\n",
       "<style scoped>\n",
       "    .dataframe tbody tr th:only-of-type {\n",
       "        vertical-align: middle;\n",
       "    }\n",
       "\n",
       "    .dataframe tbody tr th {\n",
       "        vertical-align: top;\n",
       "    }\n",
       "\n",
       "    .dataframe thead th {\n",
       "        text-align: right;\n",
       "    }\n",
       "</style>\n",
       "<table border=\"1\" class=\"dataframe\">\n",
       "  <thead>\n",
       "    <tr style=\"text-align: right;\">\n",
       "      <th></th>\n",
       "      <th>variable_name</th>\n",
       "    </tr>\n",
       "  </thead>\n",
       "  <tbody>\n",
       "    <tr>\n",
       "      <th>0</th>\n",
       "      <td>parcelid</td>\n",
       "    </tr>\n",
       "    <tr>\n",
       "      <th>1</th>\n",
       "      <td>bathroomcnt</td>\n",
       "    </tr>\n",
       "    <tr>\n",
       "      <th>2</th>\n",
       "      <td>bedroomcnt</td>\n",
       "    </tr>\n",
       "    <tr>\n",
       "      <th>3</th>\n",
       "      <td>calculatedfinishedsquarefeet</td>\n",
       "    </tr>\n",
       "    <tr>\n",
       "      <th>4</th>\n",
       "      <td>regionidzip</td>\n",
       "    </tr>\n",
       "    <tr>\n",
       "      <th>5</th>\n",
       "      <td>roomcnt</td>\n",
       "    </tr>\n",
       "    <tr>\n",
       "      <th>6</th>\n",
       "      <td>yearbuilt</td>\n",
       "    </tr>\n",
       "    <tr>\n",
       "      <th>7</th>\n",
       "      <td>taxvaluedollarcnt</td>\n",
       "    </tr>\n",
       "    <tr>\n",
       "      <th>8</th>\n",
       "      <td>taxamount</td>\n",
       "    </tr>\n",
       "    <tr>\n",
       "      <th>9</th>\n",
       "      <td>logerror</td>\n",
       "    </tr>\n",
       "  </tbody>\n",
       "</table>\n",
       "</div>"
      ],
      "text/plain": [
       "                  variable_name\n",
       "0                      parcelid\n",
       "1                   bathroomcnt\n",
       "2                    bedroomcnt\n",
       "3  calculatedfinishedsquarefeet\n",
       "4                   regionidzip\n",
       "5                       roomcnt\n",
       "6                     yearbuilt\n",
       "7             taxvaluedollarcnt\n",
       "8                     taxamount\n",
       "9                      logerror"
      ]
     },
     "execution_count": 194,
     "metadata": {},
     "output_type": "execute_result"
    }
   ],
   "source": [
    "x_vars = columns\n",
    "x_vars"
   ]
  },
  {
   "cell_type": "markdown",
   "metadata": {},
   "source": [
    "#### Clearly identify your dependent (target) variable. \n",
    "- What is the name of the variable? \n",
    "- Is it discrete or continuous?"
   ]
  },
  {
   "cell_type": "code",
   "execution_count": 207,
   "metadata": {},
   "outputs": [
    {
     "data": {
      "text/plain": [
       "'logerror'"
      ]
     },
     "execution_count": 207,
     "metadata": {},
     "output_type": "execute_result"
    }
   ],
   "source": [
    "# dependent variable is logerror\n",
    "y = df_fixed.columns.values[9]\n",
    "y"
   ]
  },
  {
   "cell_type": "code",
   "execution_count": 214,
   "metadata": {},
   "outputs": [
    {
     "data": {
      "text/html": [
       "<div>\n",
       "<style scoped>\n",
       "    .dataframe tbody tr th:only-of-type {\n",
       "        vertical-align: middle;\n",
       "    }\n",
       "\n",
       "    .dataframe tbody tr th {\n",
       "        vertical-align: top;\n",
       "    }\n",
       "\n",
       "    .dataframe thead th {\n",
       "        text-align: right;\n",
       "    }\n",
       "</style>\n",
       "<table border=\"1\" class=\"dataframe\">\n",
       "  <thead>\n",
       "    <tr style=\"text-align: right;\">\n",
       "      <th></th>\n",
       "      <th>logerror</th>\n",
       "    </tr>\n",
       "  </thead>\n",
       "  <tbody>\n",
       "    <tr>\n",
       "      <th>0</th>\n",
       "      <td>0.0953</td>\n",
       "    </tr>\n",
       "    <tr>\n",
       "      <th>1</th>\n",
       "      <td>0.0198</td>\n",
       "    </tr>\n",
       "    <tr>\n",
       "      <th>2</th>\n",
       "      <td>0.0060</td>\n",
       "    </tr>\n",
       "    <tr>\n",
       "      <th>3</th>\n",
       "      <td>-0.0566</td>\n",
       "    </tr>\n",
       "    <tr>\n",
       "      <th>4</th>\n",
       "      <td>0.0573</td>\n",
       "    </tr>\n",
       "    <tr>\n",
       "      <th>5</th>\n",
       "      <td>0.0564</td>\n",
       "    </tr>\n",
       "    <tr>\n",
       "      <th>6</th>\n",
       "      <td>0.0315</td>\n",
       "    </tr>\n",
       "    <tr>\n",
       "      <th>7</th>\n",
       "      <td>0.0257</td>\n",
       "    </tr>\n",
       "    <tr>\n",
       "      <th>8</th>\n",
       "      <td>0.0020</td>\n",
       "    </tr>\n",
       "    <tr>\n",
       "      <th>9</th>\n",
       "      <td>-0.0576</td>\n",
       "    </tr>\n",
       "    <tr>\n",
       "      <th>10</th>\n",
       "      <td>-0.0131</td>\n",
       "    </tr>\n",
       "    <tr>\n",
       "      <th>11</th>\n",
       "      <td>-0.0212</td>\n",
       "    </tr>\n",
       "    <tr>\n",
       "      <th>12</th>\n",
       "      <td>0.0834</td>\n",
       "    </tr>\n",
       "    <tr>\n",
       "      <th>13</th>\n",
       "      <td>-0.0294</td>\n",
       "    </tr>\n",
       "    <tr>\n",
       "      <th>14</th>\n",
       "      <td>0.0090</td>\n",
       "    </tr>\n",
       "    <tr>\n",
       "      <th>15</th>\n",
       "      <td>0.0573</td>\n",
       "    </tr>\n",
       "    <tr>\n",
       "      <th>16</th>\n",
       "      <td>-0.0151</td>\n",
       "    </tr>\n",
       "    <tr>\n",
       "      <th>17</th>\n",
       "      <td>0.0843</td>\n",
       "    </tr>\n",
       "    <tr>\n",
       "      <th>18</th>\n",
       "      <td>0.0060</td>\n",
       "    </tr>\n",
       "    <tr>\n",
       "      <th>19</th>\n",
       "      <td>0.0188</td>\n",
       "    </tr>\n",
       "    <tr>\n",
       "      <th>20</th>\n",
       "      <td>-0.0408</td>\n",
       "    </tr>\n",
       "    <tr>\n",
       "      <th>21</th>\n",
       "      <td>0.0611</td>\n",
       "    </tr>\n",
       "    <tr>\n",
       "      <th>22</th>\n",
       "      <td>-0.0020</td>\n",
       "    </tr>\n",
       "    <tr>\n",
       "      <th>23</th>\n",
       "      <td>-0.1154</td>\n",
       "    </tr>\n",
       "    <tr>\n",
       "      <th>24</th>\n",
       "      <td>-0.2510</td>\n",
       "    </tr>\n",
       "    <tr>\n",
       "      <th>25</th>\n",
       "      <td>-0.0111</td>\n",
       "    </tr>\n",
       "    <tr>\n",
       "      <th>26</th>\n",
       "      <td>0.0383</td>\n",
       "    </tr>\n",
       "    <tr>\n",
       "      <th>27</th>\n",
       "      <td>0.0030</td>\n",
       "    </tr>\n",
       "    <tr>\n",
       "      <th>28</th>\n",
       "      <td>-0.0020</td>\n",
       "    </tr>\n",
       "    <tr>\n",
       "      <th>29</th>\n",
       "      <td>0.0129</td>\n",
       "    </tr>\n",
       "    <tr>\n",
       "      <th>...</th>\n",
       "      <td>...</td>\n",
       "    </tr>\n",
       "    <tr>\n",
       "      <th>90244</th>\n",
       "      <td>0.0129</td>\n",
       "    </tr>\n",
       "    <tr>\n",
       "      <th>90245</th>\n",
       "      <td>0.1587</td>\n",
       "    </tr>\n",
       "    <tr>\n",
       "      <th>90246</th>\n",
       "      <td>0.0459</td>\n",
       "    </tr>\n",
       "    <tr>\n",
       "      <th>90247</th>\n",
       "      <td>0.0060</td>\n",
       "    </tr>\n",
       "    <tr>\n",
       "      <th>90248</th>\n",
       "      <td>0.0620</td>\n",
       "    </tr>\n",
       "    <tr>\n",
       "      <th>90249</th>\n",
       "      <td>0.0871</td>\n",
       "    </tr>\n",
       "    <tr>\n",
       "      <th>90250</th>\n",
       "      <td>-0.0070</td>\n",
       "    </tr>\n",
       "    <tr>\n",
       "      <th>90251</th>\n",
       "      <td>-0.0171</td>\n",
       "    </tr>\n",
       "    <tr>\n",
       "      <th>90252</th>\n",
       "      <td>-0.0387</td>\n",
       "    </tr>\n",
       "    <tr>\n",
       "      <th>90254</th>\n",
       "      <td>-0.0998</td>\n",
       "    </tr>\n",
       "    <tr>\n",
       "      <th>90255</th>\n",
       "      <td>0.0926</td>\n",
       "    </tr>\n",
       "    <tr>\n",
       "      <th>90256</th>\n",
       "      <td>0.0000</td>\n",
       "    </tr>\n",
       "    <tr>\n",
       "      <th>90257</th>\n",
       "      <td>-0.4125</td>\n",
       "    </tr>\n",
       "    <tr>\n",
       "      <th>90258</th>\n",
       "      <td>0.0573</td>\n",
       "    </tr>\n",
       "    <tr>\n",
       "      <th>90259</th>\n",
       "      <td>0.0667</td>\n",
       "    </tr>\n",
       "    <tr>\n",
       "      <th>90260</th>\n",
       "      <td>0.1939</td>\n",
       "    </tr>\n",
       "    <tr>\n",
       "      <th>90261</th>\n",
       "      <td>-0.0856</td>\n",
       "    </tr>\n",
       "    <tr>\n",
       "      <th>90262</th>\n",
       "      <td>-0.1590</td>\n",
       "    </tr>\n",
       "    <tr>\n",
       "      <th>90263</th>\n",
       "      <td>0.0305</td>\n",
       "    </tr>\n",
       "    <tr>\n",
       "      <th>90264</th>\n",
       "      <td>-0.0555</td>\n",
       "    </tr>\n",
       "    <tr>\n",
       "      <th>90265</th>\n",
       "      <td>-0.0346</td>\n",
       "    </tr>\n",
       "    <tr>\n",
       "      <th>90266</th>\n",
       "      <td>0.1151</td>\n",
       "    </tr>\n",
       "    <tr>\n",
       "      <th>90267</th>\n",
       "      <td>0.0469</td>\n",
       "    </tr>\n",
       "    <tr>\n",
       "      <th>90268</th>\n",
       "      <td>0.0315</td>\n",
       "    </tr>\n",
       "    <tr>\n",
       "      <th>90269</th>\n",
       "      <td>0.0871</td>\n",
       "    </tr>\n",
       "    <tr>\n",
       "      <th>90270</th>\n",
       "      <td>0.0276</td>\n",
       "    </tr>\n",
       "    <tr>\n",
       "      <th>90271</th>\n",
       "      <td>-0.1188</td>\n",
       "    </tr>\n",
       "    <tr>\n",
       "      <th>90272</th>\n",
       "      <td>0.0843</td>\n",
       "    </tr>\n",
       "    <tr>\n",
       "      <th>90273</th>\n",
       "      <td>-0.0050</td>\n",
       "    </tr>\n",
       "    <tr>\n",
       "      <th>90274</th>\n",
       "      <td>0.0129</td>\n",
       "    </tr>\n",
       "  </tbody>\n",
       "</table>\n",
       "<p>85623 rows × 1 columns</p>\n",
       "</div>"
      ],
      "text/plain": [
       "       logerror\n",
       "0        0.0953\n",
       "1        0.0198\n",
       "2        0.0060\n",
       "3       -0.0566\n",
       "4        0.0573\n",
       "5        0.0564\n",
       "6        0.0315\n",
       "7        0.0257\n",
       "8        0.0020\n",
       "9       -0.0576\n",
       "10      -0.0131\n",
       "11      -0.0212\n",
       "12       0.0834\n",
       "13      -0.0294\n",
       "14       0.0090\n",
       "15       0.0573\n",
       "16      -0.0151\n",
       "17       0.0843\n",
       "18       0.0060\n",
       "19       0.0188\n",
       "20      -0.0408\n",
       "21       0.0611\n",
       "22      -0.0020\n",
       "23      -0.1154\n",
       "24      -0.2510\n",
       "25      -0.0111\n",
       "26       0.0383\n",
       "27       0.0030\n",
       "28      -0.0020\n",
       "29       0.0129\n",
       "...         ...\n",
       "90244    0.0129\n",
       "90245    0.1587\n",
       "90246    0.0459\n",
       "90247    0.0060\n",
       "90248    0.0620\n",
       "90249    0.0871\n",
       "90250   -0.0070\n",
       "90251   -0.0171\n",
       "90252   -0.0387\n",
       "90254   -0.0998\n",
       "90255    0.0926\n",
       "90256    0.0000\n",
       "90257   -0.4125\n",
       "90258    0.0573\n",
       "90259    0.0667\n",
       "90260    0.1939\n",
       "90261   -0.0856\n",
       "90262   -0.1590\n",
       "90263    0.0305\n",
       "90264   -0.0555\n",
       "90265   -0.0346\n",
       "90266    0.1151\n",
       "90267    0.0469\n",
       "90268    0.0315\n",
       "90269    0.0871\n",
       "90270    0.0276\n",
       "90271   -0.1188\n",
       "90272    0.0843\n",
       "90273   -0.0050\n",
       "90274    0.0129\n",
       "\n",
       "[85623 rows x 1 columns]"
      ]
     },
     "execution_count": 214,
     "metadata": {},
     "output_type": "execute_result"
    }
   ],
   "source": [
    "# continuous\n",
    "continuous = df_fixed[['logerror']]\n",
    "continuous"
   ]
  },
  {
   "cell_type": "markdown",
   "metadata": {},
   "source": [
    "#### BONUS:  Data standardization \n",
    "Create a new data frame that is the min-max normalization of the independent variable in the original data frame (+ the original dependent variable). You will normalize each of the numeric independent variables independently, i.e. using the min and max of each variable, not the min/max of the whole dataframe. Why? Regression is very sensitive to difference in units. It will be almost impossible to extract a meaningful linear regression model with such extreme differences in scale. For more context, see: https://medium.com/@rrfd/standardize-or-normalize-examples-in-python-e3f174b65dfc\n",
    "You will use this dataframe in the future analysis."
   ]
  },
  {
   "cell_type": "markdown",
   "metadata": {},
   "source": [
    "### Data Exploration\n",
    "\n",
    "Goal is to address each of the questions you posed in your planning & brainstorming through visual or statistical analysis.\n",
    "\n",
    "When you have completed this step, you will have the findings from your analysis that will be used in your final report, the answers to your questions and your customer's questions that will reach the goal. "
   ]
  },
  {
   "cell_type": "code",
   "execution_count": null,
   "metadata": {},
   "outputs": [],
   "source": []
  },
  {
   "cell_type": "markdown",
   "metadata": {},
   "source": [
    "#### Split data into training and test datasets"
   ]
  },
  {
   "cell_type": "code",
   "execution_count": null,
   "metadata": {},
   "outputs": [],
   "source": []
  },
  {
   "cell_type": "markdown",
   "metadata": {},
   "source": [
    "#### Create a jointplot for each independent variable (normalized version) with the dependent variable. \n",
    "\n",
    "Be sure you have Pearson's r and p-value annotated on each plot."
   ]
  },
  {
   "cell_type": "code",
   "execution_count": null,
   "metadata": {},
   "outputs": [],
   "source": []
  },
  {
   "cell_type": "markdown",
   "metadata": {},
   "source": [
    "#### Create a feature plot using seaborn's PairGrid() of the interaction between each variable (dependent + independent). \n",
    "\n",
    "You may want to use a normalized dataframe (if you did that) or adjust the axis scale (set to logarithmic, e.g) so you can more clearly view the interactions."
   ]
  },
  {
   "cell_type": "code",
   "execution_count": null,
   "metadata": {},
   "outputs": [],
   "source": []
  },
  {
   "cell_type": "markdown",
   "metadata": {},
   "source": [
    "#### Create a heatmap of the correlation between each variable pair."
   ]
  },
  {
   "cell_type": "code",
   "execution_count": 128,
   "metadata": {},
   "outputs": [
    {
     "data": {
      "text/plain": [
       "<matplotlib.axes._subplots.AxesSubplot at 0x1c20da39b0>"
      ]
     },
     "execution_count": 128,
     "metadata": {},
     "output_type": "execute_result"
    },
    {
     "data": {
      "image/png": "[encoded data removed]",
      "text/plain": [
       "<Figure size 2160x1080 with 2 Axes>"
      ]
     },
     "metadata": {
      "needs_background": "light"
     },
     "output_type": "display_data"
    }
   ],
   "source": [
    "# view heatmap of after removal beyond 3 st.devs.:\n",
    "plt.figure(figsize=(30,15))\n",
    "sns.heatmap(df_fixed.corr(), cmap='Blues', annot=True)"
   ]
  },
  {
   "cell_type": "code",
   "execution_count": null,
   "metadata": {},
   "outputs": [],
   "source": []
  },
  {
   "cell_type": "markdown",
   "metadata": {},
   "source": [
    "#### Summarize your conclusions from all of these steps.  "
   ]
  },
  {
   "cell_type": "code",
   "execution_count": null,
   "metadata": {},
   "outputs": [],
   "source": []
  },
  {
   "cell_type": "markdown",
   "metadata": {},
   "source": [
    "#### Is the logerror significantly different for homes with 3 bedrooms vs those with 5 or more bedrooms? \n",
    "Run a t-test to test this difference."
   ]
  },
  {
   "cell_type": "code",
   "execution_count": null,
   "metadata": {},
   "outputs": [],
   "source": []
  },
  {
   "cell_type": "markdown",
   "metadata": {},
   "source": [
    "#### Do the same for another 2 samples you are interested in comparing (e.g. those with 1 bath vs. x baths)"
   ]
  },
  {
   "cell_type": "code",
   "execution_count": null,
   "metadata": {},
   "outputs": [],
   "source": [
    "\n"
   ]
  },
  {
   "cell_type": "markdown",
   "metadata": {},
   "source": [
    "### Data Modeling"
   ]
  },
  {
   "cell_type": "markdown",
   "metadata": {},
   "source": [
    "#### Feature Engineering & Selection\n",
    "\n",
    "#### Are there new features you could create based on existing features that might be helpful? \n",
    "\n",
    "Come up with at least one possible new feature that is a calculation from 2+ existing variables. \n",
    "\n",
    "#### Use statsmodels ordinary least squares to assess the importance of each feature with respect to the target\n",
    "\n",
    "#### Summarize your conclusions and next steps from your analysis in above. \n",
    "What will you try when developing your model? (which features to use/not use/etc)\n",
    "\n",
    "#### Train & Test Model\n",
    "\n",
    "#### Fit, predict (in-sample) & evaluate multiple linear regression models to find the best one.\n",
    "\n",
    "- Make any changes as necessary to improve your model.\n",
    "\n",
    "- Identify the best model after all training\n",
    "\n",
    "- Compare the models by plotting the predictions of each model with actual values (see plot right above section 12 in 'Regression in Python' lesson\n",
    "\n",
    "(the predictions are a 1 x 83 two dimensional matrix, but we want just a single array of predictions. We can use the .ravel method to achieve this.)\n",
    "\n",
    "`pd.DataFrame({'actual': y_train.final_grade,  \n",
    "              'lm1': y_pred_lm1.ravel(),  \n",
    "              'lm2': y_pred_lm2.ravel()})\\  \n",
    "    .melt(id_vars=['actual'], var_name='model', value_name='prediction')\\  \n",
    "    .pipe((sns.relplot, 'data'), x='actual', y='prediction', hue='model')  \n",
    "\n",
    "plt.plot([60, 100], [60, 100], c='black', ls=':')  \n",
    "plt.ylim(60, 100)  \n",
    "plt.xlim(60, 100)  \n",
    "plt.title('Predicted vs Actual Final Grade')`  \n",
    "\n",
    "#### Predict & evaluate on out-of-sample data (test)    \n",
    "\n",
    "- Plot the residuals from your out-of-sample predictions.\n",
    "\n",
    "- Summarize your expectations about how you estimate this model will perform in production."
   ]
  },
  {
   "cell_type": "code",
   "execution_count": null,
   "metadata": {},
   "outputs": [],
   "source": [
    "# add this in later into the modeling stage:\n",
    "# to create a price per sq foot field:\n",
    "    \n",
    "# df_fixed['pp_sqft'] = (df_join.taxvaluedollarcnt / df_join.calculatedfinishedsquarefeet)"
   ]
  },
  {
   "cell_type": "code",
   "execution_count": null,
   "metadata": {},
   "outputs": [],
   "source": []
  },
  {
   "cell_type": "code",
   "execution_count": null,
   "metadata": {},
   "outputs": [],
   "source": [
    "# ensure notebook is reproducible.  Dump unneeded cells."
   ]
  },
  {
   "cell_type": "code",
   "execution_count": null,
   "metadata": {},
   "outputs": [],
   "source": [
    "# scaling, normalization.\n",
    "# looking specifically at min-max normalization."
   ]
  },
  {
   "cell_type": "code",
   "execution_count": null,
   "metadata": {},
   "outputs": [],
   "source": [
    "# We'll look at the SQL reproducibility next week."
   ]
  },
  {
   "cell_type": "code",
   "execution_count": null,
   "metadata": {},
   "outputs": [],
   "source": []
  }
 ],
 "metadata": {
  "kernelspec": {
   "display_name": "Python 3",
   "language": "python",
   "name": "python3"
  },
  "language_info": {
   "codemirror_mode": {
    "name": "ipython",
    "version": 3
   },
   "file_extension": ".py",
   "mimetype": "text/x-python",
   "name": "python",
   "nbconvert_exporter": "python",
   "pygments_lexer": "ipython3",
   "version": "3.7.1"
  }
 },
 "nbformat": 4,
 "nbformat_minor": 2
}
